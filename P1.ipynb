{
 "cells": [
  {
   "cell_type": "code",
   "execution_count": 1,
   "metadata": {},
   "outputs": [],
   "source": [
    "import pandas as pd\n",
    "import matplotlib.pyplot as plt\n",
    "import seaborn as sns\n",
    "\n",
    "data_country = pd.read_csv(\"../input/climate-change-earth-surface-temperature-data/GlobalLandTemperaturesByCountry.csv\")\n",
    "data_greece = data_country[data_country[\"Country\"] == \"Greece\"].copy()\n",
    "data_greece[\"dt\"] = pd.to_datetime(data_greece[\"dt\"])\n",
    "\n",
    "data_global = pd.read_csv(\"../input/climate-change-earth-surface-temperature-data/GlobalTemperatures.csv\")\n",
    "data_global[\"dt\"] = pd.to_datetime(data_global[\"dt\"])\n",
    "co2_ppm = pd.read_csv(\"../input/carbon-dioxide/archive.csv\")\n",
    "annual_mean_global = data_global.groupby(data_global[\"dt\"].dt.year).mean()\n",
    "reference_temperature_global = annual_mean_global.loc[1951:1980].mean()[\"LandAndOceanAverageTemperature\"]\n",
    "annual_mean_global[\"Anomaly\"] = annual_mean_global[\"LandAndOceanAverageTemperature\"] - reference_temperature_global\n",
    "\n",
    "annual_mean_greece = data_greece.groupby(data_greece[\"dt\"].dt.year).mean()\n",
    "reference_temperature_greece = annual_mean_greece.loc[1951:1980].mean()[\"AverageTemperature\"]\n",
    "annual_mean_greece[\"Anomaly\"] = annual_mean_greece[\"AverageTemperature\"] - reference_temperature_greece\n"
   ]
  },
  {
   "cell_type": "code",
   "execution_count": null,
   "metadata": {},
   "outputs": [],
   "source": [
    "plt.figure()\n",
    "plt.style.use(\"fivethirtyeight\")\n",
    "annual_mean_global.loc[1960:2015][\"Anomaly\"].plot(figsize = (10,5), grid=True, legend=True)\n",
    "plt.title(\"Annual anomaly from base mean temperature (Global)\")\n",
    "plt.xlabel('')\n",
    "plt.ylabel('Temperature Anomaly')\n",
    "plt.show()\n"
   ]
  },
  {
   "cell_type": "code",
   "execution_count": null,
   "metadata": {},
   "outputs": [],
   "source": [
    "plt.figure()\n",
    "plt.style.use(\"fivethirtyeight\")\n",
    "annual_mean_greece.loc[1960:2012][\"Anomaly\"].plot(figsize = (10,5), grid=True, legend=True)\n",
    "plt.title(\"Annual anomaly from base mean temperature (Greece)\")\n",
    "plt.xlabel('')\n",
    "plt.ylabel('Temperature Anomaly')\n",
    "plt.show()"
   ]
  },
  {
   "cell_type": "code",
   "execution_count": null,
   "metadata": {},
   "outputs": [],
   "source": [
    "plt.figure()\n",
    "plt.style.use(\"fivethirtyeight\")\n",
    "annual_co2_ppm = co2_ppm.groupby(co2_ppm[\"Year\"]).mean()\n",
    "annual_co2_ppm.loc[1960:2015][\"Carbon Dioxide (ppm)\"].plot(figsize = (10,5), grid=True, legend=True)\n",
    "plt.title(\"Global annual CO2 levels in atmosphere\")\n",
    "plt.ylabel(\"CO2 parts per million\")\n",
    "plt.show()"
   ]
  },
  {
   "cell_type": "code",
   "execution_count": null,
   "metadata": {},
   "outputs": [],
   "source": [
    "annual_co2_temp = pd.merge(annual_mean_global.loc[1960:2015], annual_co2_ppm.loc[1960:2015], left_index=True, right_index=True)\n",
    "annual_co2_temp = annual_co2_temp[[\"LandAndOceanAverageTemperature\", \"Anomaly\", \"Carbon Dioxide (ppm)\"]].copy()\n",
    "annual_co2_temp.corr()"
   ]
  },
  {
   "cell_type": "code",
   "execution_count": null,
   "metadata": {},
   "outputs": [],
   "source": []
  }
 ],
 "metadata": {
  "kernelspec": {
   "display_name": "Python 3",
   "language": "python",
   "name": "python3"
  },
  "language_info": {
   "codemirror_mode": {
    "name": "ipython",
    "version": 3
   },
   "file_extension": ".py",
   "mimetype": "text/x-python",
   "name": "python",
   "nbconvert_exporter": "python",
   "pygments_lexer": "ipython3",
   "version": "3.11.9"
  }
 },
 "nbformat": 4,
 "nbformat_minor": 2
}
